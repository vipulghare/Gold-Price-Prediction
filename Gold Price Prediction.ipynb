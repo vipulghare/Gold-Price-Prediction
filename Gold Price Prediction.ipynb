{
 "cells": [
  {
   "cell_type": "code",
   "execution_count": 1,
   "id": "e52bf310",
   "metadata": {},
   "outputs": [],
   "source": [
    "#import all the necessary modules"
   ]
  },
  {
   "cell_type": "code",
   "execution_count": 2,
   "id": "cb794ee3",
   "metadata": {},
   "outputs": [],
   "source": [
    "import pandas as pd\n",
    "import numpy as np\n",
    "import matplotlib.pyplot as plt\n",
    "import seaborn as sb\n",
    "import warnings\n",
    "warnings.filterwarnings('ignore')"
   ]
  },
  {
   "cell_type": "code",
   "execution_count": 3,
   "id": "0c758d9d",
   "metadata": {},
   "outputs": [],
   "source": [
    "#read the dataset from remote machine "
   ]
  },
  {
   "cell_type": "code",
   "execution_count": 4,
   "id": "1bd42a92",
   "metadata": {},
   "outputs": [],
   "source": [
    "A = pd.read_csv(\"C:/Users/vipul ghare/Desktop/ETL Hive/csvfiles/sidhardhan/Regression/gld_price_data.csv\")"
   ]
  },
  {
   "cell_type": "code",
   "execution_count": 5,
   "id": "2b99ed85",
   "metadata": {},
   "outputs": [],
   "source": [
    "#preview the dataset"
   ]
  },
  {
   "cell_type": "code",
   "execution_count": 6,
   "id": "a05b2ddb",
   "metadata": {},
   "outputs": [
    {
     "data": {
      "text/html": [
       "<div>\n",
       "<style scoped>\n",
       "    .dataframe tbody tr th:only-of-type {\n",
       "        vertical-align: middle;\n",
       "    }\n",
       "\n",
       "    .dataframe tbody tr th {\n",
       "        vertical-align: top;\n",
       "    }\n",
       "\n",
       "    .dataframe thead th {\n",
       "        text-align: right;\n",
       "    }\n",
       "</style>\n",
       "<table border=\"1\" class=\"dataframe\">\n",
       "  <thead>\n",
       "    <tr style=\"text-align: right;\">\n",
       "      <th></th>\n",
       "      <th>Date</th>\n",
       "      <th>SPX</th>\n",
       "      <th>GLD</th>\n",
       "      <th>USO</th>\n",
       "      <th>SLV</th>\n",
       "      <th>EUR/USD</th>\n",
       "    </tr>\n",
       "  </thead>\n",
       "  <tbody>\n",
       "    <tr>\n",
       "      <th>0</th>\n",
       "      <td>1/2/2008</td>\n",
       "      <td>1447.160034</td>\n",
       "      <td>84.860001</td>\n",
       "      <td>78.470001</td>\n",
       "      <td>15.180</td>\n",
       "      <td>1.471692</td>\n",
       "    </tr>\n",
       "    <tr>\n",
       "      <th>1</th>\n",
       "      <td>1/3/2008</td>\n",
       "      <td>1447.160034</td>\n",
       "      <td>85.570000</td>\n",
       "      <td>78.370003</td>\n",
       "      <td>15.285</td>\n",
       "      <td>1.474491</td>\n",
       "    </tr>\n",
       "    <tr>\n",
       "      <th>2</th>\n",
       "      <td>1/4/2008</td>\n",
       "      <td>1411.630005</td>\n",
       "      <td>85.129997</td>\n",
       "      <td>77.309998</td>\n",
       "      <td>15.167</td>\n",
       "      <td>1.475492</td>\n",
       "    </tr>\n",
       "    <tr>\n",
       "      <th>3</th>\n",
       "      <td>1/7/2008</td>\n",
       "      <td>1416.180054</td>\n",
       "      <td>84.769997</td>\n",
       "      <td>75.500000</td>\n",
       "      <td>15.053</td>\n",
       "      <td>1.468299</td>\n",
       "    </tr>\n",
       "    <tr>\n",
       "      <th>4</th>\n",
       "      <td>1/8/2008</td>\n",
       "      <td>1390.189941</td>\n",
       "      <td>86.779999</td>\n",
       "      <td>76.059998</td>\n",
       "      <td>15.590</td>\n",
       "      <td>1.557099</td>\n",
       "    </tr>\n",
       "  </tbody>\n",
       "</table>\n",
       "</div>"
      ],
      "text/plain": [
       "       Date          SPX        GLD        USO     SLV   EUR/USD\n",
       "0  1/2/2008  1447.160034  84.860001  78.470001  15.180  1.471692\n",
       "1  1/3/2008  1447.160034  85.570000  78.370003  15.285  1.474491\n",
       "2  1/4/2008  1411.630005  85.129997  77.309998  15.167  1.475492\n",
       "3  1/7/2008  1416.180054  84.769997  75.500000  15.053  1.468299\n",
       "4  1/8/2008  1390.189941  86.779999  76.059998  15.590  1.557099"
      ]
     },
     "execution_count": 6,
     "metadata": {},
     "output_type": "execute_result"
    }
   ],
   "source": [
    "A.head()"
   ]
  },
  {
   "cell_type": "code",
   "execution_count": 7,
   "id": "e307ecd4",
   "metadata": {},
   "outputs": [],
   "source": [
    "#Get information about the dataset"
   ]
  },
  {
   "cell_type": "code",
   "execution_count": 8,
   "id": "0eb53ee3",
   "metadata": {},
   "outputs": [
    {
     "name": "stdout",
     "output_type": "stream",
     "text": [
      "<class 'pandas.core.frame.DataFrame'>\n",
      "RangeIndex: 2290 entries, 0 to 2289\n",
      "Data columns (total 6 columns):\n",
      " #   Column   Non-Null Count  Dtype  \n",
      "---  ------   --------------  -----  \n",
      " 0   Date     2290 non-null   object \n",
      " 1   SPX      2290 non-null   float64\n",
      " 2   GLD      2290 non-null   float64\n",
      " 3   USO      2290 non-null   float64\n",
      " 4   SLV      2290 non-null   float64\n",
      " 5   EUR/USD  2290 non-null   float64\n",
      "dtypes: float64(5), object(1)\n",
      "memory usage: 107.5+ KB\n"
     ]
    }
   ],
   "source": [
    "A.info()"
   ]
  },
  {
   "cell_type": "code",
   "execution_count": 9,
   "id": "6b015227",
   "metadata": {},
   "outputs": [],
   "source": [
    "#describe funcstion will tell you more about the dataset"
   ]
  },
  {
   "cell_type": "code",
   "execution_count": 10,
   "id": "585a342a",
   "metadata": {},
   "outputs": [
    {
     "data": {
      "text/html": [
       "<div>\n",
       "<style scoped>\n",
       "    .dataframe tbody tr th:only-of-type {\n",
       "        vertical-align: middle;\n",
       "    }\n",
       "\n",
       "    .dataframe tbody tr th {\n",
       "        vertical-align: top;\n",
       "    }\n",
       "\n",
       "    .dataframe thead th {\n",
       "        text-align: right;\n",
       "    }\n",
       "</style>\n",
       "<table border=\"1\" class=\"dataframe\">\n",
       "  <thead>\n",
       "    <tr style=\"text-align: right;\">\n",
       "      <th></th>\n",
       "      <th>SPX</th>\n",
       "      <th>GLD</th>\n",
       "      <th>USO</th>\n",
       "      <th>SLV</th>\n",
       "      <th>EUR/USD</th>\n",
       "    </tr>\n",
       "  </thead>\n",
       "  <tbody>\n",
       "    <tr>\n",
       "      <th>count</th>\n",
       "      <td>2290.000000</td>\n",
       "      <td>2290.000000</td>\n",
       "      <td>2290.000000</td>\n",
       "      <td>2290.000000</td>\n",
       "      <td>2290.000000</td>\n",
       "    </tr>\n",
       "    <tr>\n",
       "      <th>mean</th>\n",
       "      <td>1654.315776</td>\n",
       "      <td>122.732875</td>\n",
       "      <td>31.842221</td>\n",
       "      <td>20.084997</td>\n",
       "      <td>1.283653</td>\n",
       "    </tr>\n",
       "    <tr>\n",
       "      <th>std</th>\n",
       "      <td>519.111540</td>\n",
       "      <td>23.283346</td>\n",
       "      <td>19.523517</td>\n",
       "      <td>7.092566</td>\n",
       "      <td>0.131547</td>\n",
       "    </tr>\n",
       "    <tr>\n",
       "      <th>min</th>\n",
       "      <td>676.530029</td>\n",
       "      <td>70.000000</td>\n",
       "      <td>7.960000</td>\n",
       "      <td>8.850000</td>\n",
       "      <td>1.039047</td>\n",
       "    </tr>\n",
       "    <tr>\n",
       "      <th>25%</th>\n",
       "      <td>1239.874969</td>\n",
       "      <td>109.725000</td>\n",
       "      <td>14.380000</td>\n",
       "      <td>15.570000</td>\n",
       "      <td>1.171313</td>\n",
       "    </tr>\n",
       "    <tr>\n",
       "      <th>50%</th>\n",
       "      <td>1551.434998</td>\n",
       "      <td>120.580002</td>\n",
       "      <td>33.869999</td>\n",
       "      <td>17.268500</td>\n",
       "      <td>1.303297</td>\n",
       "    </tr>\n",
       "    <tr>\n",
       "      <th>75%</th>\n",
       "      <td>2073.010070</td>\n",
       "      <td>132.840004</td>\n",
       "      <td>37.827501</td>\n",
       "      <td>22.882500</td>\n",
       "      <td>1.369971</td>\n",
       "    </tr>\n",
       "    <tr>\n",
       "      <th>max</th>\n",
       "      <td>2872.870117</td>\n",
       "      <td>184.589996</td>\n",
       "      <td>117.480003</td>\n",
       "      <td>47.259998</td>\n",
       "      <td>1.598798</td>\n",
       "    </tr>\n",
       "  </tbody>\n",
       "</table>\n",
       "</div>"
      ],
      "text/plain": [
       "               SPX          GLD          USO          SLV      EUR/USD\n",
       "count  2290.000000  2290.000000  2290.000000  2290.000000  2290.000000\n",
       "mean   1654.315776   122.732875    31.842221    20.084997     1.283653\n",
       "std     519.111540    23.283346    19.523517     7.092566     0.131547\n",
       "min     676.530029    70.000000     7.960000     8.850000     1.039047\n",
       "25%    1239.874969   109.725000    14.380000    15.570000     1.171313\n",
       "50%    1551.434998   120.580002    33.869999    17.268500     1.303297\n",
       "75%    2073.010070   132.840004    37.827501    22.882500     1.369971\n",
       "max    2872.870117   184.589996   117.480003    47.259998     1.598798"
      ]
     },
     "execution_count": 10,
     "metadata": {},
     "output_type": "execute_result"
    }
   ],
   "source": [
    "A.describe()"
   ]
  },
  {
   "cell_type": "code",
   "execution_count": 11,
   "id": "deff3de2",
   "metadata": {},
   "outputs": [],
   "source": [
    "#Dropping unnecessary columns "
   ]
  },
  {
   "cell_type": "code",
   "execution_count": 12,
   "id": "621f94af",
   "metadata": {},
   "outputs": [],
   "source": [
    "A=A.drop(labels=[\"Date\"],axis=1)"
   ]
  },
  {
   "cell_type": "code",
   "execution_count": 13,
   "id": "51138303",
   "metadata": {},
   "outputs": [],
   "source": [
    "#check for any null value"
   ]
  },
  {
   "cell_type": "code",
   "execution_count": 14,
   "id": "9a3bf8a3",
   "metadata": {},
   "outputs": [
    {
     "data": {
      "text/plain": [
       "SPX        0\n",
       "GLD        0\n",
       "USO        0\n",
       "SLV        0\n",
       "EUR/USD    0\n",
       "dtype: int64"
      ]
     },
     "execution_count": 14,
     "metadata": {},
     "output_type": "execute_result"
    }
   ],
   "source": [
    "A.isna().sum()"
   ]
  },
  {
   "cell_type": "code",
   "execution_count": 15,
   "id": "6f68edf3",
   "metadata": {},
   "outputs": [],
   "source": [
    "#Exploratory Data Analysis(EDA)"
   ]
  },
  {
   "cell_type": "code",
   "execution_count": 16,
   "id": "29c914b7",
   "metadata": {},
   "outputs": [
    {
     "data": {
      "image/png": "[encoded data removed]",
      "text/plain": [
       "<Figure size 2160x5040 with 5 Axes>"
      ]
     },
     "metadata": {
      "needs_background": "light"
     },
     "output_type": "display_data"
    }
   ],
   "source": [
    "plt.figure(figsize=(30,70))\n",
    "m = 1\n",
    "for i in A.columns:\n",
    "    plt.subplot(A.shape[1],3,m)\n",
    "    if(A[i].dtypes==\"object\"):\n",
    "        sb.countplot(A[i])\n",
    "    else:\n",
    "        sb.distplot(A[i])\n",
    "    m = m + 1"
   ]
  },
  {
   "cell_type": "code",
   "execution_count": 17,
   "id": "6f99e640",
   "metadata": {},
   "outputs": [],
   "source": [
    "#Declare Predictor and Target varibale"
   ]
  },
  {
   "cell_type": "code",
   "execution_count": 18,
   "id": "659d3585",
   "metadata": {},
   "outputs": [],
   "source": [
    "Y=A[[\"GLD\"]]"
   ]
  },
  {
   "cell_type": "code",
   "execution_count": 26,
   "id": "764a1143",
   "metadata": {},
   "outputs": [],
   "source": [
    "X = A.drop(labels=[\"GLD\"],axis = 1)"
   ]
  },
  {
   "cell_type": "code",
   "execution_count": 27,
   "id": "4b11d0f2",
   "metadata": {},
   "outputs": [
    {
     "data": {
      "text/html": [
       "<div>\n",
       "<style scoped>\n",
       "    .dataframe tbody tr th:only-of-type {\n",
       "        vertical-align: middle;\n",
       "    }\n",
       "\n",
       "    .dataframe tbody tr th {\n",
       "        vertical-align: top;\n",
       "    }\n",
       "\n",
       "    .dataframe thead th {\n",
       "        text-align: right;\n",
       "    }\n",
       "</style>\n",
       "<table border=\"1\" class=\"dataframe\">\n",
       "  <thead>\n",
       "    <tr style=\"text-align: right;\">\n",
       "      <th></th>\n",
       "      <th>SPX</th>\n",
       "      <th>USO</th>\n",
       "      <th>SLV</th>\n",
       "      <th>EUR/USD</th>\n",
       "    </tr>\n",
       "  </thead>\n",
       "  <tbody>\n",
       "    <tr>\n",
       "      <th>0</th>\n",
       "      <td>1447.160034</td>\n",
       "      <td>78.470001</td>\n",
       "      <td>15.1800</td>\n",
       "      <td>1.471692</td>\n",
       "    </tr>\n",
       "    <tr>\n",
       "      <th>1</th>\n",
       "      <td>1447.160034</td>\n",
       "      <td>78.370003</td>\n",
       "      <td>15.2850</td>\n",
       "      <td>1.474491</td>\n",
       "    </tr>\n",
       "    <tr>\n",
       "      <th>2</th>\n",
       "      <td>1411.630005</td>\n",
       "      <td>77.309998</td>\n",
       "      <td>15.1670</td>\n",
       "      <td>1.475492</td>\n",
       "    </tr>\n",
       "    <tr>\n",
       "      <th>3</th>\n",
       "      <td>1416.180054</td>\n",
       "      <td>75.500000</td>\n",
       "      <td>15.0530</td>\n",
       "      <td>1.468299</td>\n",
       "    </tr>\n",
       "    <tr>\n",
       "      <th>4</th>\n",
       "      <td>1390.189941</td>\n",
       "      <td>76.059998</td>\n",
       "      <td>15.5900</td>\n",
       "      <td>1.557099</td>\n",
       "    </tr>\n",
       "    <tr>\n",
       "      <th>...</th>\n",
       "      <td>...</td>\n",
       "      <td>...</td>\n",
       "      <td>...</td>\n",
       "      <td>...</td>\n",
       "    </tr>\n",
       "    <tr>\n",
       "      <th>2285</th>\n",
       "      <td>2671.919922</td>\n",
       "      <td>14.060000</td>\n",
       "      <td>15.5100</td>\n",
       "      <td>1.186789</td>\n",
       "    </tr>\n",
       "    <tr>\n",
       "      <th>2286</th>\n",
       "      <td>2697.790039</td>\n",
       "      <td>14.370000</td>\n",
       "      <td>15.5300</td>\n",
       "      <td>1.184722</td>\n",
       "    </tr>\n",
       "    <tr>\n",
       "      <th>2287</th>\n",
       "      <td>2723.070068</td>\n",
       "      <td>14.410000</td>\n",
       "      <td>15.7400</td>\n",
       "      <td>1.191753</td>\n",
       "    </tr>\n",
       "    <tr>\n",
       "      <th>2288</th>\n",
       "      <td>2730.129883</td>\n",
       "      <td>14.380000</td>\n",
       "      <td>15.5600</td>\n",
       "      <td>1.193118</td>\n",
       "    </tr>\n",
       "    <tr>\n",
       "      <th>2289</th>\n",
       "      <td>2725.780029</td>\n",
       "      <td>14.405800</td>\n",
       "      <td>15.4542</td>\n",
       "      <td>1.182033</td>\n",
       "    </tr>\n",
       "  </tbody>\n",
       "</table>\n",
       "<p>2290 rows × 4 columns</p>\n",
       "</div>"
      ],
      "text/plain": [
       "              SPX        USO      SLV   EUR/USD\n",
       "0     1447.160034  78.470001  15.1800  1.471692\n",
       "1     1447.160034  78.370003  15.2850  1.474491\n",
       "2     1411.630005  77.309998  15.1670  1.475492\n",
       "3     1416.180054  75.500000  15.0530  1.468299\n",
       "4     1390.189941  76.059998  15.5900  1.557099\n",
       "...           ...        ...      ...       ...\n",
       "2285  2671.919922  14.060000  15.5100  1.186789\n",
       "2286  2697.790039  14.370000  15.5300  1.184722\n",
       "2287  2723.070068  14.410000  15.7400  1.191753\n",
       "2288  2730.129883  14.380000  15.5600  1.193118\n",
       "2289  2725.780029  14.405800  15.4542  1.182033\n",
       "\n",
       "[2290 rows x 4 columns]"
      ]
     },
     "execution_count": 27,
     "metadata": {},
     "output_type": "execute_result"
    }
   ],
   "source": [
    "X"
   ]
  },
  {
   "cell_type": "code",
   "execution_count": 28,
   "id": "a3327c47",
   "metadata": {},
   "outputs": [],
   "source": [
    "from sklearn.preprocessing import StandardScaler #standarize the data\n",
    "ss = StandardScaler()\n",
    "X = pd.DataFrame(ss.fit_transform(X),columns=X.columns)"
   ]
  },
  {
   "cell_type": "code",
   "execution_count": 29,
   "id": "e84daa1f",
   "metadata": {},
   "outputs": [
    {
     "data": {
      "text/html": [
       "<div>\n",
       "<style scoped>\n",
       "    .dataframe tbody tr th:only-of-type {\n",
       "        vertical-align: middle;\n",
       "    }\n",
       "\n",
       "    .dataframe tbody tr th {\n",
       "        vertical-align: top;\n",
       "    }\n",
       "\n",
       "    .dataframe thead th {\n",
       "        text-align: right;\n",
       "    }\n",
       "</style>\n",
       "<table border=\"1\" class=\"dataframe\">\n",
       "  <thead>\n",
       "    <tr style=\"text-align: right;\">\n",
       "      <th></th>\n",
       "      <th>SPX</th>\n",
       "      <th>USO</th>\n",
       "      <th>SLV</th>\n",
       "      <th>EUR/USD</th>\n",
       "    </tr>\n",
       "  </thead>\n",
       "  <tbody>\n",
       "    <tr>\n",
       "      <th>0</th>\n",
       "      <td>-0.399145</td>\n",
       "      <td>2.388810</td>\n",
       "      <td>-0.691720</td>\n",
       "      <td>1.429753</td>\n",
       "    </tr>\n",
       "    <tr>\n",
       "      <th>1</th>\n",
       "      <td>-0.399145</td>\n",
       "      <td>2.383687</td>\n",
       "      <td>-0.676912</td>\n",
       "      <td>1.451035</td>\n",
       "    </tr>\n",
       "    <tr>\n",
       "      <th>2</th>\n",
       "      <td>-0.467604</td>\n",
       "      <td>2.329381</td>\n",
       "      <td>-0.693553</td>\n",
       "      <td>1.458646</td>\n",
       "    </tr>\n",
       "    <tr>\n",
       "      <th>3</th>\n",
       "      <td>-0.458837</td>\n",
       "      <td>2.236652</td>\n",
       "      <td>-0.709630</td>\n",
       "      <td>1.403954</td>\n",
       "    </tr>\n",
       "    <tr>\n",
       "      <th>4</th>\n",
       "      <td>-0.508915</td>\n",
       "      <td>2.265342</td>\n",
       "      <td>-0.633900</td>\n",
       "      <td>2.079145</td>\n",
       "    </tr>\n",
       "    <tr>\n",
       "      <th>...</th>\n",
       "      <td>...</td>\n",
       "      <td>...</td>\n",
       "      <td>...</td>\n",
       "      <td>...</td>\n",
       "    </tr>\n",
       "    <tr>\n",
       "      <th>2285</th>\n",
       "      <td>1.960708</td>\n",
       "      <td>-0.911009</td>\n",
       "      <td>-0.645182</td>\n",
       "      <td>-0.736505</td>\n",
       "    </tr>\n",
       "    <tr>\n",
       "      <th>2286</th>\n",
       "      <td>2.010555</td>\n",
       "      <td>-0.895128</td>\n",
       "      <td>-0.642361</td>\n",
       "      <td>-0.752222</td>\n",
       "    </tr>\n",
       "    <tr>\n",
       "      <th>2287</th>\n",
       "      <td>2.059264</td>\n",
       "      <td>-0.893078</td>\n",
       "      <td>-0.612747</td>\n",
       "      <td>-0.698761</td>\n",
       "    </tr>\n",
       "    <tr>\n",
       "      <th>2288</th>\n",
       "      <td>2.072867</td>\n",
       "      <td>-0.894615</td>\n",
       "      <td>-0.638131</td>\n",
       "      <td>-0.688383</td>\n",
       "    </tr>\n",
       "    <tr>\n",
       "      <th>2289</th>\n",
       "      <td>2.064486</td>\n",
       "      <td>-0.893293</td>\n",
       "      <td>-0.653051</td>\n",
       "      <td>-0.772667</td>\n",
       "    </tr>\n",
       "  </tbody>\n",
       "</table>\n",
       "<p>2290 rows × 4 columns</p>\n",
       "</div>"
      ],
      "text/plain": [
       "           SPX       USO       SLV   EUR/USD\n",
       "0    -0.399145  2.388810 -0.691720  1.429753\n",
       "1    -0.399145  2.383687 -0.676912  1.451035\n",
       "2    -0.467604  2.329381 -0.693553  1.458646\n",
       "3    -0.458837  2.236652 -0.709630  1.403954\n",
       "4    -0.508915  2.265342 -0.633900  2.079145\n",
       "...        ...       ...       ...       ...\n",
       "2285  1.960708 -0.911009 -0.645182 -0.736505\n",
       "2286  2.010555 -0.895128 -0.642361 -0.752222\n",
       "2287  2.059264 -0.893078 -0.612747 -0.698761\n",
       "2288  2.072867 -0.894615 -0.638131 -0.688383\n",
       "2289  2.064486 -0.893293 -0.653051 -0.772667\n",
       "\n",
       "[2290 rows x 4 columns]"
      ]
     },
     "execution_count": 29,
     "metadata": {},
     "output_type": "execute_result"
    }
   ],
   "source": [
    "X"
   ]
  },
  {
   "cell_type": "code",
   "execution_count": 30,
   "id": "9bf9002d",
   "metadata": {},
   "outputs": [],
   "source": [
    "#split the data in training and testing data"
   ]
  },
  {
   "cell_type": "code",
   "execution_count": 31,
   "id": "aec24ab3",
   "metadata": {},
   "outputs": [],
   "source": [
    "from sklearn.model_selection import train_test_split\n",
    "xtrain,xtest,ytrain,ytest=train_test_split(X,Y,test_size=0.2,random_state=20)"
   ]
  },
  {
   "cell_type": "code",
   "execution_count": 32,
   "id": "e23308aa",
   "metadata": {},
   "outputs": [],
   "source": [
    "# Fitting Random Forest Regressor to the Training set"
   ]
  },
  {
   "cell_type": "code",
   "execution_count": 33,
   "id": "9ecf5319",
   "metadata": {},
   "outputs": [
    {
     "data": {
      "text/plain": [
       "array([167.73989935, 145.25869826, 160.22409711, 108.10019826,\n",
       "       142.62960024, 108.77969842, 114.24799928, 119.98420045,\n",
       "        84.81839995, 125.32909995, 115.22890089, 108.65179882,\n",
       "       154.79920162, 115.47570034, 118.43539963, 102.41729915,\n",
       "       119.58970096, 115.72820003, 122.25989882, 166.96170183,\n",
       "       104.7201992 , 151.80680084, 108.58059948, 119.97780007,\n",
       "       119.08179946, 120.16619949,  90.95440169, 127.4030995 ,\n",
       "       127.67660132, 110.0482995 , 121.60399961, 122.00362501,\n",
       "       121.0339005 ,  71.17040035, 108.30819995,  85.2954983 ,\n",
       "       133.471099  , 161.23579761, 121.67389896, 115.3034    ,\n",
       "       140.15029747, 167.64150014, 116.21150071, 120.9047017 ,\n",
       "       154.61340182, 166.39749974, 161.04170046, 113.88720056,\n",
       "       133.81430134,  82.71530126,  92.33970054, 118.52179856,\n",
       "       126.75999864,  92.19259882,  71.64890109, 119.57580095,\n",
       "        91.03210048,  92.3405994 , 119.91849889, 146.60749655,\n",
       "       159.49090035, 112.68059927,  94.34330176, 127.59059875,\n",
       "       124.5984017 , 118.05340046, 126.58199909, 127.42810027,\n",
       "       123.28939934, 105.95479945, 175.05600018, 154.037201  ,\n",
       "       131.74449799, 150.98840118, 124.33410028,  91.06920048,\n",
       "       155.74660064, 125.60929932, 158.47629872, 117.51030061,\n",
       "       115.3082005 , 120.78970042, 139.40560177, 125.66530007,\n",
       "        95.93490007, 111.52379962, 114.35480086, 120.04020112,\n",
       "       115.10839988, 116.23419959, 118.90989853, 120.69830038,\n",
       "        90.90839805, 125.51770242,  90.85010052,  79.89780001,\n",
       "        91.76519942, 121.11079988, 119.57410029, 152.37629984,\n",
       "       153.7012997 ,  90.17749994, 172.03779833, 142.57100119,\n",
       "       127.61740092, 102.56289914, 126.14700007, 105.48100107,\n",
       "        87.48449862, 108.71859909, 104.67279858, 166.65800158,\n",
       "       137.31000244, 116.23130032, 124.64540124, 108.84819946,\n",
       "       108.34640127, 135.03110086,  98.51269971, 115.20910164,\n",
       "       110.44579922, 113.84380099,  91.30769921, 117.9383005 ,\n",
       "       118.33099966, 147.20050015, 165.5112026 , 117.53999842,\n",
       "       135.05859988, 103.46999943,  92.04010009, 116.85429871,\n",
       "        85.70979929, 124.62589971, 115.10419889, 133.09390033,\n",
       "       121.1130996 , 121.96788132, 112.88989873, 112.95980063,\n",
       "       118.22720046, 119.11330092,  92.52669939, 120.26870064,\n",
       "       123.06529836, 121.82329994, 121.3588001 , 115.43729944,\n",
       "        91.53549951,  87.53969838, 108.73160052, 126.34689997,\n",
       "       139.69329887, 116.17799923, 129.0611977 , 154.7532005 ,\n",
       "       153.40840105,  90.98660047, 119.69840077, 146.24659828,\n",
       "       118.59720159, 159.85389985, 123.93900074,  91.64010013,\n",
       "        89.80399887, 125.282101  , 122.03539881, 132.40919808,\n",
       "       157.07570275, 106.25170012, 164.10279841, 173.56729992,\n",
       "       149.91599802, 155.20700129, 108.54989853, 108.51329899,\n",
       "       168.58399955,  91.16930021, 149.00260011, 114.00190053,\n",
       "       127.10900044, 101.92669849,  87.9653006 , 151.68930027,\n",
       "       104.84789919, 114.36760006, 125.79769844,  84.95049848,\n",
       "       106.38799984, 170.81099947, 153.41340128,  91.19139883,\n",
       "       111.71290077, 111.50780014, 126.07880083, 153.35180015,\n",
       "        90.35840037, 115.86870109, 120.48859977, 106.85980052,\n",
       "       117.43619941, 149.5773988 , 147.99949914,  90.15899989,\n",
       "       120.42769821, 118.11009935,  89.73779922, 153.70809992,\n",
       "       126.52540057,  92.50219827, 118.98539973, 112.87120047,\n",
       "       127.83710106, 127.34179755, 131.55059835, 122.02219869,\n",
       "       112.4588006 , 115.5526999 , 125.11370151, 113.9436999 ,\n",
       "       116.20630045,  97.80299974, 126.81250011, 117.67469892,\n",
       "       102.18079928, 171.53410253, 131.5882023 , 118.64600044,\n",
       "       113.13450078, 117.37170087, 122.25163746, 120.43289864,\n",
       "       149.90170439, 125.3272004 , 160.43260228, 126.40749983,\n",
       "        93.89510124, 117.04419853, 126.00820102, 149.67259963,\n",
       "       141.27990205, 129.02409721, 120.41919961, 104.83400167,\n",
       "       121.28989947, 122.3607989 , 154.7467007 , 103.81320012,\n",
       "       117.94189951, 154.15650038,  92.07099969, 125.9010004 ,\n",
       "       176.9209023 , 121.42379998, 111.49429947, 109.3757981 ,\n",
       "        90.43290021, 154.45120146, 117.4008013 , 131.37839896,\n",
       "       147.67590104, 112.73040007, 112.61639991, 146.07689752,\n",
       "       114.50899976, 132.36829868,  93.83630047, 116.21890047,\n",
       "       132.28190264,  81.9410003 , 112.4481003 , 116.76990155,\n",
       "       150.32269739, 102.03589999, 122.48519907,  85.75639966,\n",
       "       115.41129893, 161.41609882, 126.58319908, 152.96610156,\n",
       "       113.9557994 , 125.76689853, 164.85680023, 108.82129913,\n",
       "       110.65609972, 132.09729784,  71.94089993, 156.1816029 ,\n",
       "       127.75489915,  92.7823984 , 102.68229833, 118.54290048,\n",
       "        98.57790028, 127.07339998, 125.75540244, 113.1145002 ,\n",
       "       118.44769864, 126.49390108, 151.66900103, 124.08830005,\n",
       "       165.61840216, 115.64859961, 121.65635128, 159.00610053,\n",
       "       134.104299  , 103.34279837, 127.4013977 , 120.60049998,\n",
       "       102.07490022, 168.90620042, 141.80139907, 132.4126983 ,\n",
       "       146.05769991, 141.09129896, 118.92329943,  91.67529976,\n",
       "       145.03070312, 115.42529906, 125.99890091, 157.27629831,\n",
       "       130.60320319, 117.05810012, 108.06829977, 122.35649918,\n",
       "       109.11650019, 110.2089986 , 124.95369849, 110.66449962,\n",
       "        83.7180006 , 107.83449904, 161.05980056, 101.39279895,\n",
       "       120.03950033, 152.67050185, 160.07820153, 117.68640051,\n",
       "       120.33969988, 102.19810003, 120.18759955, 152.02849903,\n",
       "       132.49550003, 121.97600044, 138.61950101, 154.88029889,\n",
       "       158.90940095, 143.38829945, 129.40220118, 160.51050389,\n",
       "       110.93079851,  87.37199883,  90.36230036, 120.53200187,\n",
       "       153.14660077,  81.5299001 , 114.15330206, 141.42859863,\n",
       "       114.78550017, 142.64720226, 121.03540067, 112.27349981,\n",
       "        92.8727005 , 113.21989972, 160.51069695, 123.36599948,\n",
       "       168.57489669, 159.54319606, 107.24260132, 160.49229599,\n",
       "       109.77290095, 168.87340093,  92.57709919, 153.1413012 ,\n",
       "       156.32849933, 149.88530099, 129.16699872, 116.11650022,\n",
       "       170.8135015 , 126.09910026, 118.93799982, 139.19850219,\n",
       "       113.56780008, 118.74280078, 126.49499806, 140.42299732,\n",
       "       149.64319916, 117.68239934, 119.04139973, 114.93910041,\n",
       "       120.69789837, 115.58049973, 156.6653006 ,  94.08820033,\n",
       "       112.58040136,  96.72750209, 126.57029885, 162.32590329,\n",
       "       129.07870119,  89.19489926,  84.38020101, 108.52809921,\n",
       "       128.27779783, 139.8143981 ,  87.23259925, 107.43579896,\n",
       "       114.60720048, 119.52669972,  97.67529948, 132.61770191,\n",
       "       124.30779945, 114.66419959,  81.11200046,  91.9717989 ,\n",
       "       123.09029924, 119.42840023, 155.5297004 ,  90.10639974,\n",
       "        89.13479923, 118.73779985,  89.48699948,  98.5187005 ,\n",
       "       127.32700079, 169.17030164, 110.83909879,  89.06319979,\n",
       "       116.36950075, 123.02239997, 174.38940121, 160.85450151,\n",
       "       175.16460205,  87.69779914, 124.60800111,  87.24739977,\n",
       "       106.85960068, 146.06470119, 129.19009779, 115.79709934,\n",
       "       118.39329952, 162.48450084, 133.57529747, 122.83489875,\n",
       "        87.84889939, 167.33739963, 165.90400158, 163.679103  ,\n",
       "       124.40430103,  93.94150113, 124.87650095,  86.96009849,\n",
       "        91.66590046, 121.54420095, 153.27220171,  76.39939846,\n",
       "       134.68239748,  94.22110043,  74.12500001, 131.96550259,\n",
       "       140.56879915, 113.9658012 ])"
      ]
     },
     "execution_count": 33,
     "metadata": {},
     "output_type": "execute_result"
    }
   ],
   "source": [
    "from sklearn.ensemble import RandomForestRegressor\n",
    "rfr = RandomForestRegressor()\n",
    "model = rfr.fit(xtrain,ytrain)\n",
    "model.predict(xtest)"
   ]
  },
  {
   "cell_type": "code",
   "execution_count": 37,
   "id": "19951365",
   "metadata": {},
   "outputs": [],
   "source": [
    "pred_ts = model.predict(xtest)"
   ]
  },
  {
   "cell_type": "code",
   "execution_count": 38,
   "id": "3bb8248b",
   "metadata": {},
   "outputs": [],
   "source": [
    "pred_tr = model.predict(xtrain)"
   ]
  },
  {
   "cell_type": "code",
   "execution_count": 34,
   "id": "786d4d73",
   "metadata": {},
   "outputs": [],
   "source": [
    "#Calculation of Accuracy of the model"
   ]
  },
  {
   "cell_type": "code",
   "execution_count": 43,
   "id": "bff50902",
   "metadata": {},
   "outputs": [
    {
     "name": "stdout",
     "output_type": "stream",
     "text": [
      "Training error : 0.9344793858856719\n",
      "Testing error : 6.475099351726089\n"
     ]
    }
   ],
   "source": [
    "from sklearn.metrics import mean_squared_error\n",
    "print(\"Training error :\",mean_squared_error(ytrain,pred_tr))\n",
    "print(\"Testing error :\",mean_squared_error(ytest,pred_ts))"
   ]
  },
  {
   "cell_type": "code",
   "execution_count": null,
   "id": "be7b31f1",
   "metadata": {},
   "outputs": [],
   "source": []
  }
 ],
 "metadata": {
  "kernelspec": {
   "display_name": "Python 3",
   "language": "python",
   "name": "python3"
  },
  "language_info": {
   "codemirror_mode": {
    "name": "ipython",
    "version": 3
   },
   "file_extension": ".py",
   "mimetype": "text/x-python",
   "name": "python",
   "nbconvert_exporter": "python",
   "pygments_lexer": "ipython3",
   "version": "3.8.8"
  }
 },
 "nbformat": 4,
 "nbformat_minor": 5
}
